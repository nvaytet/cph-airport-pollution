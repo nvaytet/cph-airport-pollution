{
 "cells": [
  {
   "cell_type": "code",
   "execution_count": null,
   "id": "b77d4a45-ccbe-4382-96ff-5945c5cc1b45",
   "metadata": {},
   "outputs": [],
   "source": [
    "%matplotlib widget\n",
    "import requests\n",
    "import numpy as np\n",
    "import re\n",
    "import matplotlib.pyplot as plt\n",
    "import pandas as pd\n",
    "import time"
   ]
  },
  {
   "cell_type": "code",
   "execution_count": null,
   "id": "70168970-2b12-433f-82a7-f2fdca7e1206",
   "metadata": {},
   "outputs": [],
   "source": [
    "def get_day_weather(day, month, year):\n",
    "    date = f'{year}-{month:02}-{day:02}'\n",
    "    print(date)\n",
    "    url = f\"https://www.meteociel.fr/temps-reel/obs_villes.php?code2=6180&jour2={day}&mois2={month-1}&annee2={year}\"\n",
    "    r = requests.get(url)\n",
    "    if r.status_code != 200:\n",
    "        return [], []\n",
    "    lines = r.text.split('\\n')\n",
    "    filtered = [line for line in lines if 'Direction' in line]\n",
    "    \n",
    "    wind_angles = []\n",
    "    for line in filtered:\n",
    "        degs = re.findall('\\d{1,3}&deg;', line)\n",
    "        if len(degs) == 0:\n",
    "            return  [], []\n",
    "        wind_angles.append(int(degs[0].split('&')[0]))\n",
    "    wind_angles = wind_angles[::-1]\n",
    "    \n",
    "    times = []\n",
    "    for line in filtered:\n",
    "        t = re.findall('\\d{1,2}h\\d{1,2}', line)\n",
    "        if len(t) == 0:\n",
    "             return [], []\n",
    "        # Extract hour and minute from the time string\n",
    "        hour, minute = map(int, t[0].split('h'))\n",
    "        # Combine date and time components into a single string\n",
    "        combined_datetime_str = f'{date} {hour:02d}:{minute:02d}'\n",
    "        # Convert the combined string to a NumPy datetime64 object\n",
    "        dt = np.datetime64(combined_datetime_str)\n",
    "        times.append(dt)\n",
    "    times = np.array(times)[::-1]\n",
    "    times\n",
    "    \n",
    "    return times, wind_angles"
   ]
  },
  {
   "cell_type": "code",
   "execution_count": null,
   "id": "8a417d58-1e40-49d5-a07d-5839f40adf62",
   "metadata": {},
   "outputs": [],
   "source": [
    "def flatten(l):\n",
    "    return [item for sublist in l for item in sublist]"
   ]
  },
  {
   "cell_type": "code",
   "execution_count": null,
   "id": "3ad6ecab-43ea-4105-9d4a-cadad3e2f6cb",
   "metadata": {},
   "outputs": [],
   "source": [
    "year = 2023\n",
    "\n",
    "days_in_month = {\"Jan\": 31, \"Feb\": 28, \"Mar\": 31, \"Apr\": 30, \"May\": 31, \"Jun\": 30, \"Jul\": 31, \"Aug\": 31, \"Sep\": 30, \"Oct\": 31, \"Nov\": 30, \"Dec\": 31}\n",
    "\n",
    "times = []\n",
    "wind = []\n",
    "\n",
    "months = list(days_in_month.keys())[:8]\n",
    "\n",
    "for im, month in enumerate(months):\n",
    "    for day in range(1, days_in_month[month] + 1):\n",
    "        t, w = get_day_weather(day, im + 1, year)\n",
    "        times.append(t)\n",
    "        wind.append(w)\n",
    "        time.sleep(0.3)\n",
    "    \n",
    "\n",
    "times = flatten(times)\n",
    "wind = flatten(wind)"
   ]
  },
  {
   "cell_type": "code",
   "execution_count": null,
   "id": "1a099208-2d13-42af-acf2-953a84286956",
   "metadata": {},
   "outputs": [],
   "source": [
    "# %matplotlib widget\n",
    "fig, ax = plt.subplots()\n",
    "ax.plot(np.array(times), np.array(wind))"
   ]
  },
  {
   "cell_type": "code",
   "execution_count": null,
   "id": "28d5880f-dbf0-48d8-b2df-98bfae625b49",
   "metadata": {},
   "outputs": [],
   "source": [
    "# Save raw data\n",
    "np.save('wind', np.array(wind))\n",
    "np.save('times', np.array(times))"
   ]
  },
  {
   "cell_type": "markdown",
   "id": "7aaef6ec-5118-4e98-886d-c73c3bc2f9f1",
   "metadata": {},
   "source": [
    "0 -> -1\n",
    "\n",
    "180 -> +1\n",
    "\n",
    "90 -> 0\n",
    "\n",
    "270 -> 0"
   ]
  },
  {
   "cell_type": "code",
   "execution_count": null,
   "id": "64287712-8f89-4a62-a46c-57c7ea9f00ad",
   "metadata": {},
   "outputs": [],
   "source": [
    "def func(x):\n",
    "    b = 180.\n",
    "    c = 20.\n",
    "    return np.exp(-(x-b)**2 / (2.*(c**2)))"
   ]
  },
  {
   "cell_type": "code",
   "execution_count": null,
   "id": "0dfda3be-b11a-4c34-8f8a-78116f0b374d",
   "metadata": {},
   "outputs": [],
   "source": [
    "# fig, ax = plt.subplots()\n",
    "# x = np.linspace(0, 360, 1000)\n",
    "# ax.plot(x, func(x))"
   ]
  },
  {
   "cell_type": "code",
   "execution_count": null,
   "id": "283b08e9-c69f-42c7-b581-5fdd190ccb0b",
   "metadata": {},
   "outputs": [],
   "source": [
    "times = np.array(times)\n",
    "wind = func(np.array(wind))\n",
    "fig, ax = plt.subplots()\n",
    "ax.plot(times, wind)"
   ]
  },
  {
   "cell_type": "code",
   "execution_count": null,
   "id": "1033b3e8-5cf6-473c-8d23-dc7e02cad28f",
   "metadata": {},
   "outputs": [],
   "source": [
    "# np.save('wind', wind)\n",
    "# np.save('times', times)"
   ]
  },
  {
   "cell_type": "code",
   "execution_count": null,
   "id": "4898837e-a97f-4ceb-824b-48b189965b2c",
   "metadata": {},
   "outputs": [],
   "source": [
    "stations = ['backersvej', 'soetorvet']\n",
    "\n",
    "air = {stat: pd.read_csv(f'{stat}.csv', delimiter=';') for stat in stations}"
   ]
  },
  {
   "cell_type": "code",
   "execution_count": null,
   "id": "99a57e6a-cb75-4a40-8474-896598bddc3d",
   "metadata": {},
   "outputs": [],
   "source": [
    "for key in air:\n",
    "    air[key] = air[key].loc[air[key]['MeanValueType'] == \"1H\"].copy()\n",
    "\n",
    "    start = pd.to_datetime(air[key]['StartUtc'])\n",
    "    end = pd.to_datetime(air[key]['EndUtc'])\n",
    "    air[key]['time'] = start + (end - start) / 2"
   ]
  },
  {
   "cell_type": "code",
   "execution_count": null,
   "id": "14d4d801-b126-479f-8971-df5fc0ef0ea8",
   "metadata": {},
   "outputs": [],
   "source": [
    "# air"
   ]
  },
  {
   "cell_type": "code",
   "execution_count": null,
   "id": "0ec75ad3-a946-4f39-9d54-ff2fc4106b1d",
   "metadata": {},
   "outputs": [],
   "source": [
    "# fig, ax = plt.subplots()\n",
    "# ax.plot(air['time'], air['PN'])\n",
    "# ax.plot(np.array(times), func(np.array(wind)) * 1.0e4)"
   ]
  },
  {
   "cell_type": "code",
   "execution_count": null,
   "id": "2f563562-c66b-4127-a05f-0749c74d0a18",
   "metadata": {},
   "outputs": [],
   "source": [
    "from scipy.ndimage import gaussian_filter\n",
    "smoothed = gaussian_filter(wind * 1.0e4, sigma=2)\n",
    "fig, ax = plt.subplots()\n",
    "ax.plot(air['backersvej']['time'], air['backersvej']['PN'])\n",
    "ax.plot(times, smoothed)\n",
    "ax.set_xlim(times[0], times[-1])"
   ]
  },
  {
   "cell_type": "code",
   "execution_count": null,
   "id": "a2baa4ac-54e7-4709-b66b-cc4486123af8",
   "metadata": {},
   "outputs": [],
   "source": [
    "import plotly.graph_objects as go\n",
    "\n",
    "fig = go.FigureWidget()\n",
    "\n",
    "# Add traces\n",
    "for key, df in air.items():\n",
    "    fig.add_trace(go.Scatter(x=df['time'], y=df['PN'],\n",
    "                        mode='lines',\n",
    "                        name=key))\n",
    "fig.add_trace(go.Scatter(x=times, y=smoothed,\n",
    "                    mode='lines',\n",
    "                    name='South wind'))\n",
    "\n",
    "fig.update_layout(xaxis_range=[times[0], times[-1]])\n",
    "fig"
   ]
  },
  {
   "cell_type": "code",
   "execution_count": null,
   "id": "6d586c2f-a5aa-4636-8eae-3cf641e03a9f",
   "metadata": {},
   "outputs": [],
   "source": [
    "# # Make 10th trace visible\n",
    "# fig.data[10].visible = True\n",
    "\n",
    "# Create and add slider\n",
    "steps = []\n",
    "for im, month in enumerate(months):\n",
    "    step = dict(\n",
    "        method=\"relayout\",\n",
    "        args=[{\"xaxis.range\": [f'{year}-{im+1:02}-01',\n",
    "                               f'{year}-{im+1:02}-{days_in_month[month]}']},\n",
    "              # {\"title\": \"Slider switched to step: \" + str(i)}],  # layout attribute\n",
    "             ],\n",
    "        label=month\n",
    "    )\n",
    "    # step[\"args\"][0][\"visible\"][i] = True  # Toggle i'th trace to \"visible\"\n",
    "    steps.append(step)\n",
    "\n",
    "    \n",
    "# print(steps)\n",
    "sliders = [dict(\n",
    "    active=0,\n",
    "    currentvalue={\"prefix\": \"Month: \"},\n",
    "    # pad={\"t\": 50},\n",
    "    steps=steps\n",
    ")]\n",
    "\n",
    "fig.update_layout(\n",
    "    sliders=sliders,\n",
    "    height=800,\n",
    ")"
   ]
  },
  {
   "cell_type": "code",
   "execution_count": null,
   "id": "f33af2dc-b919-4b92-b0f3-e98988b32580",
   "metadata": {},
   "outputs": [],
   "source": [
    "from plotly.subplots import make_subplots\n",
    "fig = go.FigureWidget(make_subplots(rows=2, cols=1,\n",
    "                    shared_xaxes=True,\n",
    "                    vertical_spacing=0.02))\n",
    "\n",
    "# Add traces\n",
    "for key, df in air.items():\n",
    "    fig.add_trace(go.Scatter(x=df['time'], y=df['PN'],\n",
    "                        mode='lines',\n",
    "                        name=key),\n",
    "                 row=1, col=1)\n",
    "fig.add_trace(go.Scatter(x=times, y=smoothed,\n",
    "                    mode='lines',\n",
    "                    name='South wind'),\n",
    "             row=2, col=1)\n",
    "\n",
    "fig.update_layout(xaxis_range=[times[0], times[-1]])\n",
    "\n",
    "\n",
    "# # Make 10th trace visible\n",
    "# fig.data[10].visible = True\n",
    "\n",
    "# Create and add slider\n",
    "steps = []\n",
    "for im, month in enumerate(months):\n",
    "    step = dict(\n",
    "        method=\"relayout\",\n",
    "        args=[{\"xaxis.range\": [f'{year}-{im+1:02}-01',\n",
    "                               f'{year}-{im+1:02}-{days_in_month[month]}']},\n",
    "              # {\"title\": \"Slider switched to step: \" + str(i)}],  # layout attribute\n",
    "             ],\n",
    "        label=month\n",
    "    )\n",
    "    # step[\"args\"][0][\"visible\"][i] = True  # Toggle i'th trace to \"visible\"\n",
    "    steps.append(step)\n",
    "\n",
    "    \n",
    "# print(steps)\n",
    "sliders = [dict(\n",
    "    active=0,\n",
    "    currentvalue={\"prefix\": \"Month: \"},\n",
    "    # pad={\"t\": 50},\n",
    "    steps=steps\n",
    ")]\n",
    "\n",
    "fig.update_layout(\n",
    "    sliders=sliders,\n",
    "    height=800,\n",
    ")\n",
    "fig"
   ]
  },
  {
   "cell_type": "code",
   "execution_count": null,
   "id": "f6d7e7b1-2c27-46cd-ad0f-766e3399880d",
   "metadata": {},
   "outputs": [],
   "source": [
    "np.datetime64('2023-03-01')"
   ]
  },
  {
   "cell_type": "code",
   "execution_count": null,
   "id": "9c3a409f-d27b-4696-9ea8-a071a6aa22a3",
   "metadata": {},
   "outputs": [],
   "source": []
  }
 ],
 "metadata": {
  "kernelspec": {
   "display_name": "Python 3 (ipykernel)",
   "language": "python",
   "name": "python3"
  },
  "language_info": {
   "codemirror_mode": {
    "name": "ipython",
    "version": 3
   },
   "file_extension": ".py",
   "mimetype": "text/x-python",
   "name": "python",
   "nbconvert_exporter": "python",
   "pygments_lexer": "ipython3",
   "version": "3.9.13"
  }
 },
 "nbformat": 4,
 "nbformat_minor": 5
}

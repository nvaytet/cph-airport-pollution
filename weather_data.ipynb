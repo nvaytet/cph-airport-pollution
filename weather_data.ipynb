{
 "cells": [
  {
   "cell_type": "code",
   "execution_count": null,
   "id": "b77d4a45-ccbe-4382-96ff-5945c5cc1b45",
   "metadata": {},
   "outputs": [],
   "source": [
    "import requests\n",
    "import numpy as np\n",
    "import re\n",
    "import matplotlib.pyplot as plt"
   ]
  },
  {
   "cell_type": "code",
   "execution_count": null,
   "id": "70168970-2b12-433f-82a7-f2fdca7e1206",
   "metadata": {},
   "outputs": [],
   "source": [
    "def get_day_weather(day, month, year):\n",
    "    date = f'{year}-{month:02}-{day:02}'\n",
    "    print(date)\n",
    "    url = f\"https://www.meteociel.fr/temps-reel/obs_villes.php?code2=6180&jour2={day}&mois2={month-1}&annee2={year}\"\n",
    "    r = requests.get(url)\n",
    "    if r.status_code != 200:\n",
    "        return\n",
    "    lines = r.text.split('\\n')\n",
    "    filtered = [line for line in lines if 'Direction' in line]\n",
    "    \n",
    "    wind_angles = []\n",
    "    for line in filtered:\n",
    "        degs = re.findall('\\d{1,3}&deg;', line)[0]\n",
    "        wind_angles.append(int(degs.split('&')[0]))\n",
    "    wind_angles = wind_angles[::-1]\n",
    "    \n",
    "    time = []\n",
    "    for line in filtered:\n",
    "        t = re.findall('\\d{1,2}h\\d{1,2}', line)[0]\n",
    "        # Extract hour and minute from the time string\n",
    "        hour, minute = map(int, t.split('h'))\n",
    "        # Combine date and time components into a single string\n",
    "        combined_datetime_str = f'{date} {hour:02d}:{minute:02d}'\n",
    "        # Convert the combined string to a NumPy datetime64 object\n",
    "        dt = np.datetime64(combined_datetime_str)\n",
    "        time.append(dt)\n",
    "    time = np.array(time)[::-1]\n",
    "    time\n",
    "    \n",
    "    return time, wind_angles"
   ]
  },
  {
   "cell_type": "code",
   "execution_count": null,
   "id": "8a417d58-1e40-49d5-a07d-5839f40adf62",
   "metadata": {},
   "outputs": [],
   "source": [
    "def flatten(l):\n",
    "    return [item for sublist in l for item in sublist]"
   ]
  },
  {
   "cell_type": "code",
   "execution_count": null,
   "id": "3ad6ecab-43ea-4105-9d4a-cadad3e2f6cb",
   "metadata": {},
   "outputs": [],
   "source": [
    "year = 2023\n",
    "month = 7\n",
    "\n",
    "time = []\n",
    "wind = []\n",
    "\n",
    "for day in range(1, 10):\n",
    "    t, w = get_day_weather(day, month, year)\n",
    "    time.append(t)\n",
    "    wind.append(w)\n",
    "\n",
    "time = flatten(time)\n",
    "wind = flatten(wind)"
   ]
  },
  {
   "cell_type": "code",
   "execution_count": null,
   "id": "1a099208-2d13-42af-acf2-953a84286956",
   "metadata": {},
   "outputs": [],
   "source": [
    "# %matplotlib widget\n",
    "fig, ax = plt.subplots()\n",
    "ax.plot(np.array(time), np.array(wind))"
   ]
  },
  {
   "cell_type": "markdown",
   "id": "7aaef6ec-5118-4e98-886d-c73c3bc2f9f1",
   "metadata": {},
   "source": [
    "0 -> -1\n",
    "\n",
    "180 -> +1\n",
    "\n",
    "90 -> 0\n",
    "\n",
    "270 -> 0"
   ]
  },
  {
   "cell_type": "code",
   "execution_count": null,
   "id": "64287712-8f89-4a62-a46c-57c7ea9f00ad",
   "metadata": {},
   "outputs": [],
   "source": [
    "def func(x):\n",
    "    b = 180.\n",
    "    c = 20.\n",
    "    return np.exp(-(x-b)**2 / (2.*(c**2)))"
   ]
  },
  {
   "cell_type": "code",
   "execution_count": null,
   "id": "0dfda3be-b11a-4c34-8f8a-78116f0b374d",
   "metadata": {},
   "outputs": [],
   "source": [
    "fig, ax = plt.subplots()\n",
    "x = np.linspace(0, 360, 1000)\n",
    "ax.plot(x, func(x))"
   ]
  },
  {
   "cell_type": "code",
   "execution_count": null,
   "id": "283b08e9-c69f-42c7-b581-5fdd190ccb0b",
   "metadata": {},
   "outputs": [],
   "source": [
    "fig, ax = plt.subplots()\n",
    "ax.plot(np.array(time), func(np.array(wind)))"
   ]
  },
  {
   "cell_type": "code",
   "execution_count": null,
   "id": "4898837e-a97f-4ceb-824b-48b189965b2c",
   "metadata": {},
   "outputs": [],
   "source": []
  }
 ],
 "metadata": {
  "kernelspec": {
   "display_name": "Python 3 (ipykernel)",
   "language": "python",
   "name": "python3"
  },
  "language_info": {
   "codemirror_mode": {
    "name": "ipython",
    "version": 3
   },
   "file_extension": ".py",
   "mimetype": "text/x-python",
   "name": "python",
   "nbconvert_exporter": "python",
   "pygments_lexer": "ipython3",
   "version": "3.9.13"
  }
 },
 "nbformat": 4,
 "nbformat_minor": 5
}
